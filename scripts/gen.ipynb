{
 "cells": [
  {
   "cell_type": "markdown",
   "metadata": {},
   "source": [
    "# A Cobblemon Pasture Loot Generator\n",
    "\n",
    "This script is meant to create loot tables in `.json` for Minecraft from `.csv` raw data."
   ]
  },
  {
   "cell_type": "markdown",
   "metadata": {},
   "source": [
    "We then import the libraries in order to use them in the code."
   ]
  },
  {
   "cell_type": "code",
   "execution_count": 31,
   "metadata": {},
   "outputs": [],
   "source": [
    "import csv\n",
    "import json\n",
    "import os\n",
    "import re\n",
    "from difflib import get_close_matches"
   ]
  },
  {
   "cell_type": "markdown",
   "metadata": {},
   "source": [
    "We define the relative paths of the folders. The csv files needs to be in the same folder as the script for convinience"
   ]
  },
  {
   "cell_type": "code",
   "execution_count": 32,
   "metadata": {},
   "outputs": [],
   "source": [
    "# Define file paths\n",
    "drops_csv_path = 'drops.csv'\n",
    "rolls_csv_path = 'rolls.csv'\n",
    "output_dir = '../data/pasturecollector/loot_tables/gameplay/pasture_collector/species/'"
   ]
  },
  {
   "cell_type": "markdown",
   "metadata": {},
   "source": [
    "We read the rarity chances from the rolls file"
   ]
  },
  {
   "cell_type": "code",
   "execution_count": 33,
   "metadata": {},
   "outputs": [],
   "source": [
    "\n",
    "# Read rolls.csv to get the chances\n",
    "rarity_chances = {}\n",
    "with open(rolls_csv_path, mode='r') as file:\n",
    "    reader = csv.DictReader(file)\n",
    "    for row in reader:\n",
    "        rarity_chances[row['rarity']] = float(row['chance'].strip('%')) / 100"
   ]
  },
  {
   "cell_type": "markdown",
   "metadata": {},
   "source": [
    "We read the csv for items and load them as dictionaries."
   ]
  },
  {
   "cell_type": "code",
   "execution_count": 34,
   "metadata": {},
   "outputs": [
    {
     "name": "stdout",
     "output_type": "stream",
     "text": [
      "Items dictionary loaded successfully.\n",
      "{'ability capsule': 'cobblemon:ability_capsule', 'ability patch': 'cobblemon:ability_patch', 'absorb bulb': 'cobblemon:absorb_bulb', 'air balloon': 'cobblemon:air_balloon', 'aspear berry': 'cobblemon:aspear_berry', 'auspicious armor': 'cobblemon:auspicious_armor', 'babiri berry': 'cobblemon:babiri_berry', 'berry juice': 'cobblemon:berry_juice', 'big root': 'cobblemon:big_root', 'black augurite': 'cobblemon:black_augurite', 'black belt': 'cobblemon:black_belt', 'black glasses': 'cobblemon:black_glasses', 'black sludge': 'cobblemon:black_sludge', 'bluk berry': 'cobblemon:bluk_berry', 'bright powder': 'cobblemon:bright_powder', 'cell battery': 'cobblemon:cell_battery', 'charcoal stick': 'cobblemon:charcoal_stick', 'charti berry': 'cobblemon:charti_berry', 'cheri berry': 'cobblemon:cheri_berry', 'chesto berry': 'cobblemon:chesto_berry', 'chilan berry': 'cobblemon:chilan_berry', 'chople berry': 'cobblemon:chople_berry', 'cleanse tag': 'cobblemon:cleanse_tag', 'coba berry': 'cobblemon:coba_berry', 'colbur berry': 'cobblemon:colbur_berry', 'dawn stone': 'cobblemon:dawn_stone', 'deep sea scale': 'cobblemon:deep_sea_scale', 'deep sea tooth': 'cobblemon:deep_sea_tooth', 'dragon fang': 'cobblemon:dragon_fang', 'dragon scale': 'cobblemon:dragon_scale', 'dubious disc': 'cobblemon:dubious_disc', 'dusk stone': 'cobblemon:dusk_stone', 'electirizer': 'cobblemon:electirizer', 'everstone': 'cobblemon:everstone', 'eviolite': 'cobblemon:eviolite', 'expert belt': 'cobblemon:expert_belt', 'fairy feather': 'cobblemon:fairy_feather', 'fire stone': 'cobblemon:fire_stone', 'flame orb': 'cobblemon:flame_orb', 'float stone': 'cobblemon:float_stone', 'focus band': 'cobblemon:focus_band', 'haban berry': 'cobblemon:haban_berry', 'hard stone': 'cobblemon:hard_stone', 'ice stone': 'cobblemon:ice_stone', 'iron ball': 'cobblemon:iron_ball', 'kasib berry': 'cobblemon:kasib_berry', 'kebia berry': 'cobblemon:kebia_berry', 'kings rock': 'cobblemon:kings_rock', 'leaf stone': 'cobblemon:leaf_stone', 'leftovers': 'cobblemon:leftovers', 'light ball': 'cobblemon:light_ball', 'light clay': 'cobblemon:light_clay', 'lucky egg': 'cobblemon:lucky_egg', 'magmarizer': 'cobblemon:magmarizer', 'magnet': 'cobblemon:magnet', 'malicious armor': 'cobblemon:malicious_armor', 'medicinal leek': 'cobblemon:medicinal_leek', 'mental herb': 'cobblemon:mental_herb', 'metal coat': 'cobblemon:metal_coat', 'metal powder': 'cobblemon:metal_powder', 'miracle seed': 'cobblemon:miracle_seed', 'moon stone': 'cobblemon:moon_stone', 'muscle band': 'cobblemon:muscle_band', 'mystic water': 'cobblemon:mystic_water', 'nanab berry': 'cobblemon:nanab_berry', 'never-melt ice': 'cobblemon:never_melt_ice', 'occa berry': 'cobblemon:occa_berry', 'oran berry': 'cobblemon:oran_berry', 'oval stone': 'cobblemon:oval_stone', 'passho berry': 'cobblemon:passho_berry', 'payapa berry': 'cobblemon:payapa_berry', 'peat block': 'cobblemon:peat_block', 'pecha berry': 'cobblemon:pecha_berry', 'persim berry': 'cobblemon:persim_berry', 'pinap berry': 'cobblemon:pinap_berry', 'poison barb': 'cobblemon:poison_barb', 'prism scale': 'cobblemon:prism_scale', 'protector': 'cobblemon:protector', 'quick claw': 'cobblemon:quick_claw', 'quick powder': 'cobblemon:quick_powder', 'rare candy': 'cobblemon:rare_candy', 'rawst berry': 'cobblemon:rawst_berry', 'razor claw': 'cobblemon:razor_claw', 'razor fang': 'cobblemon:razor_fang', 'razz berry': 'cobblemon:razz_berry', 'reaper cloth': 'cobblemon:reaper_cloth', 'relic coin': 'cobblemon:relic_coin', 'revival herb': 'cobblemon:revival_herb', 'rindo berry': 'cobblemon:rindo_berry', 'rocky helmet': 'cobblemon:rocky_helmet', 'roseli berry': 'cobblemon:roseli_berry', 'sharp beak': 'cobblemon:sharp_beak', 'shell bell': 'cobblemon:shell_bell', 'shiny stone': 'cobblemon:shiny_stone', 'shuca berry': 'cobblemon:shuca_berry', 'silk scarf': 'cobblemon:silk_scarf', 'silver powder': 'cobblemon:silver_powder', 'smoke ball': 'cobblemon:smoke_ball', 'soft sand': 'cobblemon:soft_sand', 'soothe bell': 'cobblemon:soothe_bell', 'spell tag': 'cobblemon:spell_tag', 'sticky barb': 'cobblemon:sticky_barb', 'sun stone': 'cobblemon:sun_stone', 'sweet apple': 'cobblemon:sweet_apple', 'tanga berry': 'cobblemon:tanga_berry', 'tart apple': 'cobblemon:tart_apple', 'thunder stone': 'cobblemon:thunder_stone', 'toxic orb': 'cobblemon:toxic_orb', 'twisted spoon': 'cobblemon:twisted_spoon', 'upgrade': 'cobblemon:upgrade', 'wacan berry': 'cobblemon:wacan_berry', 'water stone': 'cobblemon:water_stone', 'wepear berry': 'cobblemon:wepear_berry', 'wise glasses': 'cobblemon:wise_glasses', 'yache berry': 'cobblemon:yache_berry', 'acacia log': 'minecraft:acacia_log', 'air': 'minecraft:air', 'amethyst shard': 'minecraft:amethyst_shard', 'apple': 'minecraft:apple', 'bamboo': 'minecraft:bamboo', 'basalt': 'minecraft:basalt', 'blaze powder': 'minecraft:blaze_powder', 'blue ice': 'minecraft:blue_ice', 'blue wool': 'minecraft:blue_wool', 'bone': 'minecraft:bone', 'bone block': 'minecraft:bone_block', 'bone meal': 'minecraft:bone_meal', 'bread': 'minecraft:bread', 'brown mushroom': 'minecraft:brown_mushroom', 'brown wool': 'minecraft:brown_wool', 'cactus': 'minecraft:cactus', 'cake': 'minecraft:cake', 'candle': 'minecraft:candle', 'carrot': 'minecraft:carrot', 'charcoal': 'minecraft:charcoal', 'clay ball': 'minecraft:clay_ball', 'coal': 'minecraft:coal', 'cooked chicken': 'minecraft:cooked_chicken', 'dark oak sapling': 'minecraft:dark_oak_sapling', 'diamond': 'minecraft:diamond', \"dragon's breath\": 'minecraft:dragon_breath', 'echo shard': 'minecraft:echo_shard', 'egg': 'minecraft:egg', 'emerald': 'minecraft:emerald', 'ender pearl': 'minecraft:ender_pearl', 'feather': 'minecraft:feather', 'flint': 'minecraft:flint', 'glow ink sac': 'minecraft:glow_ink_sac', 'gold nugget': 'minecraft:gold_nugget', 'golden helmet': 'minecraft:golden_helmet', 'green dye': 'minecraft:green_dye', 'gunpowder': 'minecraft:gunpowder', 'heart of the sea': 'minecraft:heart_of_the_sea', 'honey bottle': 'minecraft:honey_bottle', 'honeycomb': 'minecraft:honeycomb', 'ink sac': 'minecraft:ink_sac', 'iron helmet': 'minecraft:iron_helmet', 'iron ingot': 'minecraft:iron_ingot', 'iron nugget': 'minecraft:iron_nugget', 'iron sword': 'minecraft:iron_sword', 'kelp': 'minecraft:kelp', 'leather': 'minecraft:leather', 'light blue wool': 'minecraft:light_blue_wool', 'lily of the valley': 'minecraft:lily_of_the_valley', 'lily pad': 'minecraft:lily_pad', 'magma cream': 'minecraft:magma_cream', 'melon seeds': 'minecraft:melon_seeds', 'mud': 'minecraft:mud', 'name tag': 'minecraft:name_tag', 'nautilus shell': 'minecraft:nautilus_shell', 'nether quartz': 'minecraft:quartz', 'nether star': 'minecraft:nether_star', 'ochre froglight': 'minecraft:ochre_froglight', 'pearlescent froglight': 'minecraft:pearlescent_froglight', 'phantom membrane': 'minecraft:phantom_membrane', 'poppy': 'minecraft:poppy', 'potato': 'minecraft:potato', 'prismarine crystal': 'minecraft:prismarine_crystals', 'prismarine shard': 'minecraft:prismarine_shard', 'pufferfish': 'minecraft:pufferfish', 'pumpkin seeds': 'minecraft:pumpkin_seeds', 'rabbit hide': 'minecraft:rabbit_hide', \"rabbit's foot\": 'minecraft:rabbit_foot', 'raw beef': 'minecraft:beef', 'raw chicken': 'minecraft:chicken', 'raw cod': 'minecraft:cod', 'raw copper': 'minecraft:raw_copper', 'raw iron': 'minecraft:raw_iron', 'raw mutton': 'minecraft:mutton', 'raw porkchop': 'minecraft:porkchop', 'raw rabbit': 'minecraft:rabbit', 'raw salmon': 'minecraft:salmon', 'red mushroom': 'minecraft:red_mushroom', 'redstone dust': 'minecraft:redstone', 'rose bush': 'minecraft:rose_bush', 'rotten flesh': 'minecraft:rotten_flesh', 'scute': 'minecraft:scute', 'slimeball': 'minecraft:slime_ball', 'snowball': 'minecraft:snowball', 'spider eye': 'minecraft:spider_eye', 'stick': 'minecraft:stick', 'stone axe': 'minecraft:stone_axe', 'string': 'minecraft:string', 'sugar': 'minecraft:sugar', 'sunflower': 'minecraft:sunflower', 'sweet berries': 'minecraft:sweet_berries', 'wheat seeds': 'minecraft:wheat_seeds', 'white wool': 'minecraft:white_wool', 'end crystal': 'minecraft:end_crystal', 'chorus fruit': 'minecraft:chorus_fruit', 'shulker shell': 'minecraft:shulker_shell'}\n"
     ]
    }
   ],
   "source": [
    "# Define file paths for items CSVs\n",
    "cobblemon_items_csv_path = 'cobblemon_items.csv'\n",
    "minecraft_items_csv_path = 'minecraft_items.csv'\n",
    "\n",
    "# Load items from CSVs into a common dictionary\n",
    "items_dict = {}\n",
    "\n",
    "# Load Cobblemon items\n",
    "with open(cobblemon_items_csv_path, mode='r') as file:\n",
    "    reader = csv.DictReader(file)\n",
    "    for row in reader:\n",
    "        items_dict[row['Item name'].lower()] = row['ID']\n",
    "\n",
    "# Load Minecraft items\n",
    "with open(minecraft_items_csv_path, mode='r') as file:\n",
    "    reader = csv.DictReader(file)\n",
    "    for row in reader:\n",
    "        items_dict[row['Item name'].lower()] = row['ID']\n",
    "\n",
    "print(\"Items dictionary loaded successfully.\")\n",
    "print(items_dict)"
   ]
  },
  {
   "cell_type": "code",
   "execution_count": 35,
   "metadata": {},
   "outputs": [
    {
     "name": "stdout",
     "output_type": "stream",
     "text": [
      "Blacklist is disabled.\n"
     ]
    }
   ],
   "source": [
    "# Define file path for blacklist CSV\n",
    "blacklist_csv_path = 'blacklist.csv'\n",
    "\n",
    "# Read blacklist.csv to get the blacklisted item IDs\n",
    "blacklisted_items = set()\n",
    "# Check if BLACKLIST environment variable is set to 'true'\n",
    "if os.getenv('BLACKLIST', 'false').lower() == 'true':\n",
    "    with open(blacklist_csv_path, mode='r') as file:\n",
    "        reader = csv.DictReader(file)\n",
    "        for row in reader:\n",
    "            blacklisted_items.add(row['Item ID'].lower())\n",
    "    print(\"Blacklisted items loaded successfully.\")\n",
    "    print(blacklisted_items)\n",
    "else:\n",
    "    print(\"Blacklist is disabled.\")"
   ]
  },
  {
   "cell_type": "markdown",
   "metadata": {},
   "source": [
    "That's the big one ! We read the drops and for each line we make a json file. For each pokemon the rarity will dictate the random tick chance. For each drop we try to check if it's a valid id, if not we try to match the name perfectly to one in the item list. If all fails we try a near match and give a warning. If it's too far off we throw an error."
   ]
  },
  {
   "cell_type": "code",
   "execution_count": null,
   "metadata": {},
   "outputs": [
    {
     "name": "stdout",
     "output_type": "stream",
     "text": [
      "JSON files generated successfully.\n"
     ]
    }
   ],
   "source": [
    "# Read drops.csv and generate JSON files\n",
    "with open(drops_csv_path, mode='r') as file:\n",
    "    reader = csv.DictReader(file)\n",
    "    for row in reader:\n",
    "        pokemon = row['Pokemon'].lower()\n",
    "        rarity = row['Rarity']\n",
    "        chance = rarity_chances.get(rarity, 0.0)\n",
    "        print(f\"Processing {pokemon} with rarity {rarity} and chance {chance} ...\")\n",
    "        entries = []\n",
    "        for i in range(1, 6):\n",
    "            drop = row[f'Drops{i}']\n",
    "            #print(f\"Drop {i}: {drop}\")\n",
    "            if drop:\n",
    "                match = re.match(r'([\\w\\s:]*?)(?:\\s([\\d\\-\\.%]+))+$', drop)\n",
    "                if match:\n",
    "                    item = match.group(1).lower()\n",
    "                    count = match.group(2)\n",
    "                else:\n",
    "                    item = drop.lower()\n",
    "                    count = '1'\n",
    "                \n",
    "                if item in items_dict.values():\n",
    "                    item_id = item\n",
    "                else:\n",
    "                    item_id = items_dict.get(item)\n",
    "                if not item_id:\n",
    "                    close_matches = get_close_matches(item, items_dict.keys(), n=1, cutoff=0.6)\n",
    "                    if close_matches:\n",
    "                        item_id = items_dict[close_matches[0]]\n",
    "                    else:\n",
    "                        close_matches = get_close_matches(item, items_dict.values(), n=1, cutoff=0.6)\n",
    "                        if close_matches:\n",
    "                            item_id = close_matches[0]\n",
    "                        else:\n",
    "                            print(f\"Error: Item '{item}' not found and no close match available.\")\n",
    "                            continue\n",
    "                    print(f\"Warning: Item '{item}' not found. Using closest match '{close_matches[0]}' instead.\")\n",
    "                if item_id in blacklisted_items:\n",
    "                    print(f\"Warning: Item '{item}' is blacklisted. Skipping.\")\n",
    "                    continue\n",
    "                if not item_id.startswith('minecraft:') and not item_id.startswith('cobblemon:'):\n",
    "                    print(f\"Warning: Item '{item}' does not start with 'minecraft:' or 'cobblemon:'. Skipping.\")\n",
    "                    continue\n",
    "                if '-' in count:\n",
    "                    min_count, max_count = map(int, count.split('-'))\n",
    "                    count = {\"min\": min_count, \"max\": max_count}\n",
    "                elif '%' in count:\n",
    "                    count = float(count.strip('%')) / 100\n",
    "                else:\n",
    "                    count = int(count)\n",
    "                entries.append({\n",
    "                    \"type\": \"minecraft:item\",\n",
    "                    \"name\": item,\n",
    "                    \"functions\": [{\"function\": \"minecraft:set_count\", \"count\": count}]\n",
    "                })\n",
    "        \n",
    "        loot_table = {\n",
    "            \"pools\": [{\n",
    "                \"rolls\": 1,\n",
    "                \"entries\": entries,\n",
    "                \"conditions\": [{\"condition\": \"minecraft:random_chance\", \"chance\": chance}]\n",
    "            }]\n",
    "        }\n",
    "        \n",
    "        # Write JSON file\n",
    "        output_path = os.path.join(output_dir, f'{pokemon}.json')\n",
    "        # Ensure the output directory exists\n",
    "        os.makedirs(output_dir, exist_ok=True)\n",
    "\n",
    "        # Write JSON file\n",
    "        with open(output_path, mode='w') as json_file:\n",
    "            json.dump(loot_table, json_file, indent=2)\n",
    "\n",
    "print(\"JSON files generated successfully.\")"
   ]
  }
 ],
 "metadata": {
  "kernelspec": {
   "display_name": "Python 3",
   "language": "python",
   "name": "python3"
  },
  "language_info": {
   "codemirror_mode": {
    "name": "ipython",
    "version": 3
   },
   "file_extension": ".py",
   "mimetype": "text/x-python",
   "name": "python",
   "nbconvert_exporter": "python",
   "pygments_lexer": "ipython3",
   "version": "3.13.2"
  }
 },
 "nbformat": 4,
 "nbformat_minor": 2
}
